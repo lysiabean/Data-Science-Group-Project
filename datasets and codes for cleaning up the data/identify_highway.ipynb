{
 "cells": [
  {
   "cell_type": "code",
   "execution_count": 1,
   "metadata": {
    "collapsed": true
   },
   "outputs": [],
   "source": [
    "import csv\n",
    "r = csv.reader(open('New-Car-Accidents.csv'))\n",
    "rows = [l for l in r]"
   ]
  },
  {
   "cell_type": "code",
   "execution_count": 2,
   "metadata": {
    "collapsed": false,
    "scrolled": false
   },
   "outputs": [],
   "source": [
    "highways = [\"i5\", \"us2\", \"sr7\", \"sr9\", \"sr16\", \"sr18\", \"i90\", \"sr99\", \"us101\", \"sr202\", \"i405\", \"sr520\", \"sr522\", \"i705\"]\n",
    "for x in range(1, len(rows)):\n",
    "    #print rows[x][3]\n",
    "    found = False;\n",
    "    string = str(rows[x][3]).lower()\n",
    "    for i in range(0, len(highways)):\n",
    "        if(not(string.find(highways[i]) == -1)):\n",
    "            found = True;\n",
    "            break;\n",
    "    if(found):\n",
    "        rows[x][3] = 1;\n",
    "    else:\n",
    "        rows[x][3] = 0;\n",
    "    #print new_rows[x-1]"
   ]
  },
  {
   "cell_type": "code",
   "execution_count": 3,
   "metadata": {
    "collapsed": true
   },
   "outputs": [],
   "source": [
    "writer=csv.writer(open(\"highway_car_accidents.csv\",\"wb\")) #open a new csv file in writer mode so we can write in updated data\n",
    "writer.writerows(rows) #actually update"
   ]
  },
  {
   "cell_type": "code",
   "execution_count": null,
   "metadata": {
    "collapsed": true
   },
   "outputs": [],
   "source": []
  }
 ],
 "metadata": {
  "kernelspec": {
   "display_name": "Python 2",
   "language": "python",
   "name": "python2"
  },
  "language_info": {
   "codemirror_mode": {
    "name": "ipython",
    "version": 2
   },
   "file_extension": ".py",
   "mimetype": "text/x-python",
   "name": "python",
   "nbconvert_exporter": "python",
   "pygments_lexer": "ipython2",
   "version": "2.7.9"
  }
 },
 "nbformat": 4,
 "nbformat_minor": 0
}
